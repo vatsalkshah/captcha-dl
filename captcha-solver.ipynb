{
  "nbformat": 4,
  "nbformat_minor": 0,
  "metadata": {
    "colab": {
      "name": "navia_captcha-2.ipynb",
      "provenance": []
    },
    "kernelspec": {
      "name": "python3",
      "display_name": "Python 3"
    },
    "language_info": {
      "name": "python"
    }
  },
  "cells": [
    {
      "cell_type": "code",
      "metadata": {
        "id": "ZvTkVUCojnL1"
      },
      "source": [
        "import albumentations\n",
        "import numpy as np\n",
        "import pandas as pd\n",
        "import os\n",
        "import glob\n",
        "import random\n",
        "from pprint import pprint\n",
        "from tqdm import tqdm\n",
        "\n",
        "import torch\n",
        "from torch import nn\n",
        "from torch.nn import functional as F\n",
        "\n",
        "from PIL import Image\n",
        "from PIL import ImageFile\n",
        "\n",
        "import matplotlib.pyplot as plt\n",
        "import matplotlib.image as mpimg\n",
        "\n",
        "from sklearn.preprocessing import LabelEncoder\n",
        "from sklearn.model_selection import train_test_split\n",
        "from sklearn.metrics import accuracy_score\n",
        "from torchsummary import summary\n",
        "\n",
        "DEVICE = torch.device('cuda' if torch.cuda.is_available() else 'cpu')"
      ],
      "execution_count": 40,
      "outputs": []
    },
    {
      "cell_type": "code",
      "metadata": {
        "id": "kclspY4okO-e"
      },
      "source": [
        "DIR = \"/content/drive/MyDrive/navia_assignment/electoral-tagged/\"\n",
        "BATCH_SIZE = 1\n",
        "IMG_HEIGHT = 42\n",
        "IMG_WIDTH = 130\n",
        "EPOCHS = 25\n",
        "NUM_WORKERS = 8"
      ],
      "execution_count": 26,
      "outputs": []
    },
    {
      "cell_type": "code",
      "metadata": {
        "colab": {
          "base_uri": "https://localhost:8080/",
          "height": 200
        },
        "id": "6RuFovCGkRjW",
        "outputId": "73d6b3e2-71a6-4002-e2e9-ee1bb04b12c8"
      },
      "source": [
        "#Creating a DF\n",
        "paths = []\n",
        "labels = []\n",
        "for image in os.listdir(DIR):\n",
        "    paths.append(os.path.join(DIR, image))\n",
        "    labels.append(image.split(\".\")[0])\n",
        "\n",
        "df = pd.DataFrame({\n",
        "    \"paths\": paths,\n",
        "    \"labels\": labels})\n",
        "\n",
        "df.head(5)"
      ],
      "execution_count": 27,
      "outputs": [
        {
          "output_type": "execute_result",
          "data": {
            "text/html": [
              "<div>\n",
              "<style scoped>\n",
              "    .dataframe tbody tr th:only-of-type {\n",
              "        vertical-align: middle;\n",
              "    }\n",
              "\n",
              "    .dataframe tbody tr th {\n",
              "        vertical-align: top;\n",
              "    }\n",
              "\n",
              "    .dataframe thead th {\n",
              "        text-align: right;\n",
              "    }\n",
              "</style>\n",
              "<table border=\"1\" class=\"dataframe\">\n",
              "  <thead>\n",
              "    <tr style=\"text-align: right;\">\n",
              "      <th></th>\n",
              "      <th>paths</th>\n",
              "      <th>labels</th>\n",
              "    </tr>\n",
              "  </thead>\n",
              "  <tbody>\n",
              "    <tr>\n",
              "      <th>0</th>\n",
              "      <td>/content/drive/MyDrive/navia_assignment/electo...</td>\n",
              "      <td>51818</td>\n",
              "    </tr>\n",
              "    <tr>\n",
              "      <th>1</th>\n",
              "      <td>/content/drive/MyDrive/navia_assignment/electo...</td>\n",
              "      <td>24715</td>\n",
              "    </tr>\n",
              "    <tr>\n",
              "      <th>2</th>\n",
              "      <td>/content/drive/MyDrive/navia_assignment/electo...</td>\n",
              "      <td>42559</td>\n",
              "    </tr>\n",
              "    <tr>\n",
              "      <th>3</th>\n",
              "      <td>/content/drive/MyDrive/navia_assignment/electo...</td>\n",
              "      <td>88639</td>\n",
              "    </tr>\n",
              "    <tr>\n",
              "      <th>4</th>\n",
              "      <td>/content/drive/MyDrive/navia_assignment/electo...</td>\n",
              "      <td>85734</td>\n",
              "    </tr>\n",
              "  </tbody>\n",
              "</table>\n",
              "</div>"
            ],
            "text/plain": [
              "                                               paths labels\n",
              "0  /content/drive/MyDrive/navia_assignment/electo...  51818\n",
              "1  /content/drive/MyDrive/navia_assignment/electo...  24715\n",
              "2  /content/drive/MyDrive/navia_assignment/electo...  42559\n",
              "3  /content/drive/MyDrive/navia_assignment/electo...  88639\n",
              "4  /content/drive/MyDrive/navia_assignment/electo...  85734"
            ]
          },
          "metadata": {},
          "execution_count": 27
        }
      ]
    },
    {
      "cell_type": "code",
      "metadata": {
        "id": "v8KUcoP8kTsA",
        "colab": {
          "base_uri": "https://localhost:8080/",
          "height": 245
        },
        "outputId": "270066aa-71c3-4658-fca7-2aba2e36edae"
      },
      "source": [
        "# Displaying the data\n",
        "f = plt.figure(figsize=(10,10))\n",
        "i=1\n",
        "for i in range(8):\n",
        "  i += 1\n",
        "  ax = f.add_subplot(4,4,i)\n",
        "  sample = random.choice(df['paths'])\n",
        "  image = mpimg.imread(sample)\n",
        "  ax.set_title(sample.split(\"/\")[-1])\n",
        "  plt.imshow(image)"
      ],
      "execution_count": 28,
      "outputs": [
        {
          "output_type": "display_data",
          "data": {
            "image/png": "[encoded data removed]",
            "text/plain": [
              "<Figure size 720x720 with 8 Axes>"
            ]
          },
          "metadata": {
            "needs_background": "light"
          }
        }
      ]
    },
    {
      "cell_type": "code",
      "metadata": {
        "id": "zvy3kAkSkV4n"
      },
      "source": [
        "def get_loss_function(x, bs, targets):\n",
        "    log_softmax_values = F.log_softmax(x, 2)\n",
        "\n",
        "    input_lengths = torch.full(\n",
        "        size=(bs,), fill_value=log_softmax_values.size(0), dtype=torch.int32\n",
        "    )\n",
        "\n",
        "    target_lengths = torch.full(\n",
        "        size=(bs,), fill_value=targets.size(1), dtype=torch.int32\n",
        "    )\n",
        "\n",
        "    return nn.CTCLoss(blank=0)(log_softmax_values, targets, input_lengths, target_lengths)"
      ],
      "execution_count": 29,
      "outputs": []
    },
    {
      "cell_type": "code",
      "metadata": {
        "id": "SMFziMCPkcw-"
      },
      "source": [
        "class MyCaptchaModel(nn.Module):\n",
        "    def __init__(self, num_chars):\n",
        "        super(MyCaptchaModel, self).__init__()\n",
        "        \n",
        "        # CNN Layer\n",
        "        self.conv1 = nn.Conv2d(3, 128, kernel_size=(3,3), padding=(1,1))\n",
        "        self.maxpool1 = nn.MaxPool2d(kernel_size=(2,2))\n",
        "        \n",
        "        self.conv2 = nn.Conv2d(128, 64, kernel_size=(3,3), padding=(1,1))\n",
        "        self.maxpool2 = nn.MaxPool2d(kernel_size=(2,2))\n",
        "        \n",
        "        # RNN Layer Preprocess\n",
        "        self.linear1 = nn.Linear(640, 64)\n",
        "        self.drop1 = nn.Dropout(0.2)\n",
        "        \n",
        "        # LSTM GRU\n",
        "        self.gru = nn.GRU(64, 32, bidirectional=True, num_layers=2, dropout=0.25, batch_first=True)\n",
        "        self.output = nn.Linear(64, num_chars+1)\n",
        "        \n",
        "        \n",
        "    def forward(self, images, targets=None):  \n",
        "        bs, channel, height, width = images.size()\n",
        "        \n",
        "        x = F.relu(self.conv1(images))\n",
        "        x = self.maxpool1(x)\n",
        "\n",
        "        x = F.relu(self.conv2(x))\n",
        "        x = self.maxpool2(x)\n",
        "\n",
        "        x = x.permute(0, 3, 1, 2)\n",
        "        x = x.view(bs, x.size(1), -1)\n",
        "\n",
        "        x = self.linear1(x)\n",
        "        x = self.drop1(x)\n",
        "\n",
        "        x, _ = self.gru(x)\n",
        "        x = self.output(x)\n",
        "        x = x.permute(1, 0, 2)\n",
        "\n",
        "        if targets is not None:\n",
        "            loss = get_loss_function(x, bs, targets)\n",
        "            return x, loss\n",
        "        \n",
        "        return x, None"
      ],
      "execution_count": 30,
      "outputs": []
    },
    {
      "cell_type": "code",
      "metadata": {
        "colab": {
          "base_uri": "https://localhost:8080/"
        },
        "id": "KWDz4yfMtZU5",
        "outputId": "175242bb-5a25-402a-be6d-9cccf6634f89"
      },
      "source": [
        "model = MyCaptchaModel(1)\n",
        "print(model)"
      ],
      "execution_count": 31,
      "outputs": [
        {
          "output_type": "stream",
          "name": "stdout",
          "text": [
            "MyCaptchaModel(\n",
            "  (conv1): Conv2d(3, 128, kernel_size=(3, 3), stride=(1, 1), padding=(1, 1))\n",
            "  (maxpool1): MaxPool2d(kernel_size=(2, 2), stride=(2, 2), padding=0, dilation=1, ceil_mode=False)\n",
            "  (conv2): Conv2d(128, 64, kernel_size=(3, 3), stride=(1, 1), padding=(1, 1))\n",
            "  (maxpool2): MaxPool2d(kernel_size=(2, 2), stride=(2, 2), padding=0, dilation=1, ceil_mode=False)\n",
            "  (linear1): Linear(in_features=640, out_features=64, bias=True)\n",
            "  (drop1): Dropout(p=0.2, inplace=False)\n",
            "  (gru): GRU(64, 32, num_layers=2, batch_first=True, dropout=0.25, bidirectional=True)\n",
            "  (output): Linear(in_features=64, out_features=2, bias=True)\n",
            ")\n"
          ]
        }
      ]
    },
    {
      "cell_type": "code",
      "metadata": {
        "id": "UGGg0C-nkfw2"
      },
      "source": [
        "def train_function(model, data_loader, optimizer):\n",
        "    model.train()\n",
        "    fin_loss = 0\n",
        "    tk = tqdm(data_loader, total=len(data_loader))\n",
        "    for data in tk:\n",
        "        for k, v in data.items():\n",
        "            data[k] = v.to(DEVICE)\n",
        "        \n",
        "        optimizer.zero_grad()\n",
        "        _, loss = model(**data)\n",
        "        loss.backward()\n",
        "        optimizer.step()\n",
        "        fin_loss += loss.item()\n",
        "\n",
        "    return fin_loss / len(data_loader)\n",
        "\n",
        "\n",
        "def eval_function(model, data_loader):\n",
        "    model.eval()\n",
        "    fin_loss = 0\n",
        "    fin_preds = []\n",
        "    with torch.no_grad(): \n",
        "        tk = tqdm(data_loader, total=len(data_loader))\n",
        "        for data in tk:\n",
        "            for k, v in data.items():\n",
        "                data[k] = v.to(DEVICE)\n",
        "            \n",
        "            batch_preds, loss = model(**data)\n",
        "            fin_loss += loss.item()\n",
        "            fin_preds.append(batch_preds)\n",
        "\n",
        "        return fin_preds, fin_loss / len(data_loader)"
      ],
      "execution_count": 32,
      "outputs": []
    },
    {
      "cell_type": "code",
      "metadata": {
        "colab": {
          "base_uri": "https://localhost:8080/"
        },
        "id": "jJ9jiiYBkix-",
        "outputId": "b6e43608-841e-4321-f019-b93c746ed664"
      },
      "source": [
        "def encode_targets():\n",
        "  image_files = glob.glob(os.path.join(DIR, \"*.png\"))\n",
        "  targets_orig = [x.split(\"/\")[-1].split(\".\")[0] for x in image_files]\n",
        "  targets = [[c for c in x] for x in targets_orig]\n",
        "  targets_flat = [c for clist in targets for c in clist]\n",
        "\n",
        "  # Encode images\n",
        "  lbl_enc = LabelEncoder()\n",
        "  lbl_enc.fit(targets_flat)\n",
        "\n",
        "  targets_enc = [lbl_enc.transform(x) for x in targets]\n",
        "  targets_enc = np.array(targets_enc) + 1\n",
        "  return image_files, targets_enc, targets_orig, lbl_enc\n",
        "\n",
        "\n",
        "# Train-test split\n",
        "image_files, targets_enc, targets_orig, lbl_enc = encode_targets()\n",
        "\n",
        "(train_imgs, test_imgs, train_targets, test_targets, _, test_orig_targets) = train_test_split(\n",
        "    image_files, targets_enc, targets_orig, test_size=0.2, random_state=0)"
      ],
      "execution_count": 33,
      "outputs": [
        {
          "output_type": "stream",
          "name": "stderr",
          "text": [
            "/usr/local/lib/python3.7/dist-packages/ipykernel_launcher.py:12: VisibleDeprecationWarning: Creating an ndarray from ragged nested sequences (which is a list-or-tuple of lists-or-tuples-or ndarrays with different lengths or shapes) is deprecated. If you meant to do this, you must specify 'dtype=object' when creating the ndarray\n",
            "  if sys.path[0] == '':\n"
          ]
        }
      ]
    },
    {
      "cell_type": "code",
      "metadata": {
        "id": "vpWfS4vBkl2T"
      },
      "source": [
        "ImageFile.LoadTruncatedImages = True\n",
        "\n",
        "class DatasetClassifier:\n",
        "    def __init__(self, image_paths, targets, resize=None):\n",
        "        self.image_paths = image_paths\n",
        "        self.targets = targets\n",
        "        self.resize = resize\n",
        "        self.aug = albumentations.Compose(\n",
        "            [\n",
        "             albumentations.Normalize(always_apply=True)\n",
        "            ]\n",
        "            )\n",
        "    \n",
        "    def __len__(self):\n",
        "        return len(self.image_paths)\n",
        "    \n",
        "    def __getitem__(self, item):\n",
        "        image = Image.open(self.image_paths[item]).convert(\"RGB\")\n",
        "        target = self.targets[item]\n",
        "        \n",
        "        if self.resize is not None:\n",
        "            image = image.resize((self.resize[1], self.resize[0]), resample=Image.BILINEAR)\n",
        "        \n",
        "        image = np.array(image)\n",
        "        augmented = self.aug(image=image)\n",
        "        image = augmented[\"image\"]\n",
        "        image = np.transpose(image, (2, 0, 1)).astype(np.float32)\n",
        "        \n",
        "        return {\n",
        "            \"images\": torch.tensor(image, dtype=torch.float),\n",
        "            \"targets\": torch.tensor(target, dtype=torch.long)\n",
        "        }"
      ],
      "execution_count": 34,
      "outputs": []
    },
    {
      "cell_type": "code",
      "metadata": {
        "colab": {
          "base_uri": "https://localhost:8080/"
        },
        "id": "e1Rgxoa6ksaE",
        "outputId": "eef568ad-d431-45ce-9965-3f851940e985"
      },
      "source": [
        "# Classify images, load using pytorch's DataLoader\n",
        "train_dataset = DatasetClassifier(\n",
        "    image_paths=train_imgs, targets=train_targets)\n",
        "\n",
        "train_loader = torch.utils.data.DataLoader(\n",
        "    train_dataset,\n",
        "    batch_size=BATCH_SIZE,\n",
        "    num_workers=NUM_WORKERS,\n",
        "    shuffle=True,\n",
        ")\n",
        "\n",
        "test_dataset = DatasetClassifier(\n",
        "    image_paths=test_imgs, targets=test_targets)\n",
        "\n",
        "test_loader = torch.utils.data.DataLoader(\n",
        "    test_dataset,\n",
        "    batch_size=BATCH_SIZE,\n",
        "    num_workers=NUM_WORKERS,\n",
        "    shuffle=False\n",
        ")"
      ],
      "execution_count": 35,
      "outputs": [
        {
          "output_type": "stream",
          "name": "stderr",
          "text": [
            "/usr/local/lib/python3.7/dist-packages/torch/utils/data/dataloader.py:481: UserWarning: This DataLoader will create 8 worker processes in total. Our suggested max number of worker in current system is 2, which is smaller than what this DataLoader is going to create. Please be aware that excessive worker creation might get DataLoader running slow or even freeze, lower the worker number to avoid potential slowness/freeze if necessary.\n",
            "  cpuset_checked))\n"
          ]
        }
      ]
    },
    {
      "cell_type": "code",
      "metadata": {
        "id": "Zk27OhimksWL"
      },
      "source": [
        "# Load the models\n",
        "model = MyCaptchaModel(num_chars=len(lbl_enc.classes_))\n",
        "model.to(DEVICE)\n",
        "\n",
        "# Create optimizer and callbacks\n",
        "optimizer = torch.optim.Adam(model.parameters(), lr=2e-4)\n",
        "scheduler = torch.optim.lr_scheduler.ReduceLROnPlateau(\n",
        "    optimizer, factor=0.8, patience=5, verbose=True\n",
        ")"
      ],
      "execution_count": 41,
      "outputs": []
    },
    {
      "cell_type": "code",
      "metadata": {
        "id": "-2pCcIeNksRn"
      },
      "source": [
        "def early_stopping(patience, count, prev_loss, current_loss, threshold):\n",
        "    if abs(prev_loss - current_loss) < threshold and count >= patience:\n",
        "        return \"stop\" \n",
        "    elif abs(prev_loss - current_loss) < threshold:\n",
        "        return \"count\"\n",
        "    else:\n",
        "        return False\n"
      ],
      "execution_count": 42,
      "outputs": []
    },
    {
      "cell_type": "code",
      "metadata": {
        "id": "05z1cxokk49l"
      },
      "source": [
        "def decode_predictions(preds, encoder):\n",
        "    preds = preds.permute(1, 0, 2)\n",
        "    preds = torch.softmax(preds, 2)\n",
        "    preds = torch.argmax(preds, 2)\n",
        "    preds = preds.detach().cpu().numpy()\n",
        "    cap_preds = []\n",
        "    for j in range(preds.shape[0]):\n",
        "        temp = []\n",
        "        for k in preds[j,:]:\n",
        "            k = k - 1\n",
        "            if k == -1:\n",
        "                temp.append(\"-\")\n",
        "            else:\n",
        "                temp.append(encoder.inverse_transform([k])[0])\n",
        "        tp = \"\".join(temp)\n",
        "        cap_preds.append(tp)\n",
        "    return cap_preds\n"
      ],
      "execution_count": 43,
      "outputs": []
    },
    {
      "cell_type": "code",
      "metadata": {
        "colab": {
          "base_uri": "https://localhost:8080/"
        },
        "id": "I-VLBogmk7D1",
        "outputId": "23605a23-38dc-4344-a7d9-1a11c7de24d7"
      },
      "source": [
        "patience = 6\n",
        "count = 0\n",
        "prev_train_loss = 0\n",
        "threshold = 0.05\n",
        "loss = []\n",
        "\n",
        "for epoch in range(EPOCHS):\n",
        "    train_loss = train_function(model, train_loader, optimizer)\n",
        "    valid_preds, valid_loss = eval_function(model, test_loader)\n",
        "    valid_cap_preds = []\n",
        "\n",
        "    for vp in valid_preds:\n",
        "        current_preds = decode_predictions(vp, lbl_enc)\n",
        "        valid_cap_preds.extend(current_preds)\n",
        "        \n",
        "    pprint(list(zip(test_orig_targets, valid_cap_preds))[15:20])\n",
        "    print(f\"Epoch: {epoch}, train_loss: {train_loss}, valid_loss: {valid_loss}\")\n",
        "    \n",
        "    res = early_stopping(patience, count, prev_train_loss, train_loss, threshold)\n",
        "    \n",
        "    loss.append(train_loss)\n",
        "    \n",
        "    if res == \"stop\":\n",
        "        print(\"Early Stopping Implemented.\")\n",
        "        final_epoch = epoch\n",
        "        break\n",
        "    elif res == \"count\" and train_loss < 0.2:\n",
        "        count += 1\n",
        "        print(f\"Patience at {patience-count}\")\n",
        "    else:\n",
        "        prev_train_loss = train_loss"
      ],
      "execution_count": 49,
      "outputs": [
        {
          "output_type": "stream",
          "name": "stderr",
          "text": [
            "\r  0%|          | 0/844 [00:00<?, ?it/s]/usr/local/lib/python3.7/dist-packages/torch/utils/data/dataloader.py:481: UserWarning: This DataLoader will create 8 worker processes in total. Our suggested max number of worker in current system is 2, which is smaller than what this DataLoader is going to create. Please be aware that excessive worker creation might get DataLoader running slow or even freeze, lower the worker number to avoid potential slowness/freeze if necessary.\n",
            "  cpuset_checked))\n",
            "100%|██████████| 844/844 [00:38<00:00, 21.75it/s]\n",
            "100%|██████████| 94/94 [00:01<00:00, 60.67it/s]\n"
          ]
        },
        {
          "output_type": "stream",
          "name": "stdout",
          "text": [
            "[('41352', '--------------------------------'),\n",
            " ('79149', '--------------------------------'),\n",
            " ('46266', '--------------------------------'),\n",
            " ('36757', '--------------------------------'),\n",
            " ('53236', '--------------------------------')]\n",
            "Epoch: 0, train_loss: 2.6405758058290347, valid_loss: 2.5531609312016914\n"
          ]
        },
        {
          "output_type": "stream",
          "name": "stderr",
          "text": [
            "100%|██████████| 844/844 [00:39<00:00, 21.60it/s]\n",
            "100%|██████████| 94/94 [00:01<00:00, 58.25it/s]\n"
          ]
        },
        {
          "output_type": "stream",
          "name": "stdout",
          "text": [
            "[('41352', '--------------------------------'),\n",
            " ('79149', '--------------------------------'),\n",
            " ('46266', '--------------------------------'),\n",
            " ('36757', '--------------------------------'),\n",
            " ('53236', '--------------------------------')]\n",
            "Epoch: 1, train_loss: 2.534452528750162, valid_loss: 2.5523205615104514\n"
          ]
        },
        {
          "output_type": "stream",
          "name": "stderr",
          "text": [
            "100%|██████████| 844/844 [00:39<00:00, 21.35it/s]\n",
            "100%|██████████| 94/94 [00:01<00:00, 58.36it/s]\n"
          ]
        },
        {
          "output_type": "stream",
          "name": "stdout",
          "text": [
            "[('41352', '--------------------------------'),\n",
            " ('79149', '--------------------------------'),\n",
            " ('46266', '--------------------------------'),\n",
            " ('36757', '--------------------------------'),\n",
            " ('53236', '--------------------------------')]\n",
            "Epoch: 2, train_loss: 2.529061858122948, valid_loss: 2.543881543139194\n"
          ]
        },
        {
          "output_type": "stream",
          "name": "stderr",
          "text": [
            "100%|██████████| 844/844 [00:39<00:00, 21.53it/s]\n",
            "100%|██████████| 94/94 [00:01<00:00, 58.91it/s]\n"
          ]
        },
        {
          "output_type": "stream",
          "name": "stdout",
          "text": [
            "[('41352', '--------------------------------'),\n",
            " ('79149', '--------------------------------'),\n",
            " ('46266', '--------------------------------'),\n",
            " ('36757', '--------------------------------'),\n",
            " ('53236', '--------------------------------')]\n",
            "Epoch: 3, train_loss: 2.5263385679484545, valid_loss: 2.5639187478004617\n"
          ]
        },
        {
          "output_type": "stream",
          "name": "stderr",
          "text": [
            "100%|██████████| 844/844 [00:39<00:00, 21.22it/s]\n",
            "100%|██████████| 94/94 [00:01<00:00, 54.54it/s]\n"
          ]
        },
        {
          "output_type": "stream",
          "name": "stdout",
          "text": [
            "[('41352', '--------------------------------'),\n",
            " ('79149', '--------------------------------'),\n",
            " ('46266', '--------------------------------'),\n",
            " ('36757', '--------------------------------'),\n",
            " ('53236', '--------------------------------')]\n",
            "Epoch: 4, train_loss: 2.5212749587416083, valid_loss: 2.5153062267506376\n"
          ]
        },
        {
          "output_type": "stream",
          "name": "stderr",
          "text": [
            "100%|██████████| 844/844 [00:39<00:00, 21.45it/s]\n",
            "100%|██████████| 94/94 [00:01<00:00, 56.97it/s]\n"
          ]
        },
        {
          "output_type": "stream",
          "name": "stdout",
          "text": [
            "[('41352', '--------------------------------'),\n",
            " ('79149', '--------------------------------'),\n",
            " ('46266', '--------------------------------'),\n",
            " ('36757', '--------------------------------'),\n",
            " ('53236', '--------------------------------')]\n",
            "Epoch: 5, train_loss: 2.5142824768455108, valid_loss: 2.5218759369342885\n"
          ]
        },
        {
          "output_type": "stream",
          "name": "stderr",
          "text": [
            "100%|██████████| 844/844 [00:40<00:00, 21.04it/s]\n",
            "100%|██████████| 94/94 [00:01<00:00, 58.18it/s]\n"
          ]
        },
        {
          "output_type": "stream",
          "name": "stdout",
          "text": [
            "[('41352', '8-------------------------------'),\n",
            " ('79149', '8-------------------------------'),\n",
            " ('46266', '8-------------------------------'),\n",
            " ('36757', '8-------------------------------'),\n",
            " ('53236', '8-------------------------------')]\n",
            "Epoch: 6, train_loss: 2.5109609636650267, valid_loss: 2.495373178035655\n"
          ]
        },
        {
          "output_type": "stream",
          "name": "stderr",
          "text": [
            "100%|██████████| 844/844 [00:39<00:00, 21.43it/s]\n",
            "100%|██████████| 94/94 [00:01<00:00, 57.71it/s]\n"
          ]
        },
        {
          "output_type": "stream",
          "name": "stdout",
          "text": [
            "[('41352', '8-------------------------------'),\n",
            " ('79149', '5-------------------------------'),\n",
            " ('46266', '8-------------------------------'),\n",
            " ('36757', '5-------------------------------'),\n",
            " ('53236', '5-------------------------------')]\n",
            "Epoch: 7, train_loss: 2.4959616587625297, valid_loss: 2.4617439178710288\n"
          ]
        },
        {
          "output_type": "stream",
          "name": "stderr",
          "text": [
            "100%|██████████| 844/844 [00:39<00:00, 21.44it/s]\n",
            "100%|██████████| 94/94 [00:01<00:00, 58.34it/s]\n"
          ]
        },
        {
          "output_type": "stream",
          "name": "stdout",
          "text": [
            "[('41352', '1-------------------------------'),\n",
            " ('79149', '--------------------------------'),\n",
            " ('46266', '8-------------------------------'),\n",
            " ('36757', '--------------------------------'),\n",
            " ('53236', '3-------------------------------')]\n",
            "Epoch: 8, train_loss: 2.322115534007267, valid_loss: 2.0621492888065096\n"
          ]
        },
        {
          "output_type": "stream",
          "name": "stderr",
          "text": [
            "100%|██████████| 844/844 [00:40<00:00, 20.92it/s]\n",
            "100%|██████████| 94/94 [00:01<00:00, 57.02it/s]\n"
          ]
        },
        {
          "output_type": "stream",
          "name": "stdout",
          "text": [
            "[('41352', '--4-----1-------3--5---2--------'),\n",
            " ('79149', '-------7---9---1-----4-----9----'),\n",
            " ('46266', '---4---6--2------6---6----------'),\n",
            " ('36757', '----3---6------7--5------7------'),\n",
            " ('53236', '-----5---3-----2---3----6-------')]\n",
            "Epoch: 9, train_loss: 1.44544969273122, valid_loss: 0.4094564619850605\n"
          ]
        },
        {
          "output_type": "stream",
          "name": "stderr",
          "text": [
            "100%|██████████| 844/844 [00:40<00:00, 21.04it/s]\n",
            "100%|██████████| 94/94 [00:01<00:00, 54.86it/s]\n"
          ]
        },
        {
          "output_type": "stream",
          "name": "stdout",
          "text": [
            "[('41352', '--4-----1-------3--5---2--------'),\n",
            " ('79149', '-------7---9---1-----4-----9----'),\n",
            " ('46266', '---4---6--2------6---6----------'),\n",
            " ('36757', '----3---6------7--5------7------'),\n",
            " ('53236', '-----5---3-----2---3----6-------')]\n",
            "Epoch: 10, train_loss: 0.23868027553227134, valid_loss: 0.04183856207639613\n"
          ]
        },
        {
          "output_type": "stream",
          "name": "stderr",
          "text": [
            "100%|██████████| 844/844 [00:40<00:00, 20.66it/s]\n",
            "100%|██████████| 94/94 [00:02<00:00, 42.12it/s]\n"
          ]
        },
        {
          "output_type": "stream",
          "name": "stdout",
          "text": [
            "[('41352', '--4-----1-------3--5---2--------'),\n",
            " ('79149', '-------7---9---1-----4-----9----'),\n",
            " ('46266', '---4---6--2------6---6----------'),\n",
            " ('36757', '----3---6------7--5------7------'),\n",
            " ('53236', '-----5---3-----2---3----6-------')]\n",
            "Epoch: 11, train_loss: 0.06218602497492568, valid_loss: 0.015346061923798728\n"
          ]
        },
        {
          "output_type": "stream",
          "name": "stderr",
          "text": [
            "100%|██████████| 844/844 [00:41<00:00, 20.45it/s]\n",
            "100%|██████████| 94/94 [00:02<00:00, 41.19it/s]\n"
          ]
        },
        {
          "output_type": "stream",
          "name": "stdout",
          "text": [
            "[('41352', '--4-----1-------3--5---2--------'),\n",
            " ('79149', '-------7---9---1-----4-----9----'),\n",
            " ('46266', '---4---6--2------6---6----------'),\n",
            " ('36757', '----3---6------7--5------7------'),\n",
            " ('53236', '-----5---3-----2---3----6-------')]\n",
            "Epoch: 12, train_loss: 0.03646133786676478, valid_loss: 0.008096531677515582\n",
            "Patience at 5\n"
          ]
        },
        {
          "output_type": "stream",
          "name": "stderr",
          "text": [
            "100%|██████████| 844/844 [00:42<00:00, 19.98it/s]\n",
            "100%|██████████| 94/94 [00:02<00:00, 36.41it/s]\n"
          ]
        },
        {
          "output_type": "stream",
          "name": "stdout",
          "text": [
            "[('41352', '--4-----1-------3--5---2--------'),\n",
            " ('79149', '-------7---9---1-----4-----9----'),\n",
            " ('46266', '---4---6--2------6---6----------'),\n",
            " ('36757', '----3---6------7--5------7------'),\n",
            " ('53236', '-----5---3-----2--33----6-------')]\n",
            "Epoch: 13, train_loss: 0.027842051903518596, valid_loss: 0.0050922384995848256\n",
            "Patience at 4\n"
          ]
        },
        {
          "output_type": "stream",
          "name": "stderr",
          "text": [
            "100%|██████████| 844/844 [00:44<00:00, 18.99it/s]\n",
            "100%|██████████| 94/94 [00:01<00:00, 50.66it/s]\n"
          ]
        },
        {
          "output_type": "stream",
          "name": "stdout",
          "text": [
            "[('41352', '--4-----1-------3--5---2--------'),\n",
            " ('79149', '-------7---9---1-----4-----9----'),\n",
            " ('46266', '---4---6--2------6---6----------'),\n",
            " ('36757', '----3---6------7--5------7------'),\n",
            " ('53236', '-----5---3-----2---3----6-------')]\n",
            "Epoch: 14, train_loss: 0.019683583438731906, valid_loss: 0.003157450659002395\n",
            "Patience at 3\n"
          ]
        },
        {
          "output_type": "stream",
          "name": "stderr",
          "text": [
            "100%|██████████| 844/844 [00:44<00:00, 19.17it/s]\n",
            "100%|██████████| 94/94 [00:01<00:00, 52.17it/s]\n"
          ]
        },
        {
          "output_type": "stream",
          "name": "stdout",
          "text": [
            "[('41352', '--4-----1-------3--5---2--------'),\n",
            " ('79149', '-------7---9---1-----4-----9----'),\n",
            " ('46266', '---4---6--2------6---6----------'),\n",
            " ('36757', '----3---6------7--5------7------'),\n",
            " ('53236', '-----5---3-----2---3----6-------')]\n",
            "Epoch: 15, train_loss: 0.021645728846839785, valid_loss: 0.0024752402987747277\n",
            "Patience at 2\n"
          ]
        },
        {
          "output_type": "stream",
          "name": "stderr",
          "text": [
            "100%|██████████| 844/844 [00:42<00:00, 19.92it/s]\n",
            "100%|██████████| 94/94 [00:01<00:00, 54.55it/s]\n"
          ]
        },
        {
          "output_type": "stream",
          "name": "stdout",
          "text": [
            "[('41352', '--4-----1-------3--5---2--------'),\n",
            " ('79149', '-------7---9---1-----4-----9----'),\n",
            " ('46266', '---4---6--2------6---6----------'),\n",
            " ('36757', '----3---6------7--5------7------'),\n",
            " ('53236', '-----5---3-----2---3----6-------')]\n",
            "Epoch: 16, train_loss: 0.017801846353965037, valid_loss: 0.0017136290813102683\n",
            "Patience at 1\n"
          ]
        },
        {
          "output_type": "stream",
          "name": "stderr",
          "text": [
            "100%|██████████| 844/844 [00:40<00:00, 20.73it/s]\n",
            "100%|██████████| 94/94 [00:01<00:00, 57.81it/s]\n"
          ]
        },
        {
          "output_type": "stream",
          "name": "stdout",
          "text": [
            "[('41352', '--4-----11------3--5---2--------'),\n",
            " ('79149', '-------7---9---1-----4-----9----'),\n",
            " ('46266', '---4---6--2------6---6----------'),\n",
            " ('36757', '----3---6------7--5------7------'),\n",
            " ('53236', '-----5---3-----2---3----6-------')]\n",
            "Epoch: 17, train_loss: 0.016590923554224285, valid_loss: 0.0019242114318098794\n",
            "Patience at 0\n"
          ]
        },
        {
          "output_type": "stream",
          "name": "stderr",
          "text": [
            "100%|██████████| 844/844 [00:40<00:00, 21.04it/s]\n",
            "100%|██████████| 94/94 [00:01<00:00, 56.95it/s]"
          ]
        },
        {
          "output_type": "stream",
          "name": "stdout",
          "text": [
            "[('41352', '--4-----11------3--5---2--------'),\n",
            " ('79149', '-------7---9---1-----4-----9----'),\n",
            " ('46266', '---4---6--2------6---6----------'),\n",
            " ('36757', '----3---6------7--5------7------'),\n",
            " ('53236', '-----5---3-----2---3----6-------')]\n",
            "Epoch: 18, train_loss: 0.014975065180741612, valid_loss: 0.0012714295614599943\n",
            "Early Stopping Implemented.\n"
          ]
        },
        {
          "output_type": "stream",
          "name": "stderr",
          "text": [
            "\n"
          ]
        }
      ]
    },
    {
      "cell_type": "code",
      "metadata": {
        "id": "fIbK8G6Ok9a9"
      },
      "source": [
        "torch.save(model.state_dict(), \"./model.bin\")"
      ],
      "execution_count": 50,
      "outputs": []
    },
    {
      "cell_type": "code",
      "metadata": {
        "colab": {
          "base_uri": "https://localhost:8080/",
          "height": 366
        },
        "id": "bsSfvcRz7hlm",
        "outputId": "4331b28b-e779-4bbd-b9e1-3d7f4a53f336"
      },
      "source": [
        "import matplotlib.pyplot as plt\n",
        "import seaborn as sns\n",
        "\n",
        "df_pytorch = pd.DataFrame({\"loss\": loss})\n",
        "plt.figure(figsize=(15,5))\n",
        "plt.grid()\n",
        "plt.xlabel(\"Epoch No.\")\n",
        "plt.ylabel(\"Loss Value\")\n",
        "plt.title(\"Loss During Epoch Training\")\n",
        "sns.lineplot(data=df_pytorch, palette=\"tab10\", linewidth=2.5)"
      ],
      "execution_count": 51,
      "outputs": [
        {
          "output_type": "execute_result",
          "data": {
            "text/plain": [
              "<matplotlib.axes._subplots.AxesSubplot at 0x7f3004892fd0>"
            ]
          },
          "metadata": {},
          "execution_count": 51
        },
        {
          "output_type": "display_data",
          "data": {
            "image/png": "[encoded data removed]",
            "text/plain": [
              "<Figure size 1080x360 with 1 Axes>"
            ]
          },
          "metadata": {
            "needs_background": "light"
          }
        }
      ]
    },
    {
      "cell_type": "code",
      "metadata": {
        "colab": {
          "base_uri": "https://localhost:8080/"
        },
        "id": "fwWlomzZx7Os",
        "outputId": "fe7e1812-e5ab-474d-9b6f-0d6fa48d2dbd"
      },
      "source": [
        "model = MyCaptchaModel(9)\n",
        "model.load_state_dict(torch.load('/content/model.bin'))\n",
        "model.eval()"
      ],
      "execution_count": 53,
      "outputs": [
        {
          "output_type": "execute_result",
          "data": {
            "text/plain": [
              "MyCaptchaModel(\n",
              "  (conv1): Conv2d(3, 128, kernel_size=(3, 3), stride=(1, 1), padding=(1, 1))\n",
              "  (maxpool1): MaxPool2d(kernel_size=(2, 2), stride=(2, 2), padding=0, dilation=1, ceil_mode=False)\n",
              "  (conv2): Conv2d(128, 64, kernel_size=(3, 3), stride=(1, 1), padding=(1, 1))\n",
              "  (maxpool2): MaxPool2d(kernel_size=(2, 2), stride=(2, 2), padding=0, dilation=1, ceil_mode=False)\n",
              "  (linear1): Linear(in_features=640, out_features=64, bias=True)\n",
              "  (drop1): Dropout(p=0.2, inplace=False)\n",
              "  (gru): GRU(64, 32, num_layers=2, batch_first=True, dropout=0.25, bidirectional=True)\n",
              "  (output): Linear(in_features=64, out_features=10, bias=True)\n",
              ")"
            ]
          },
          "metadata": {},
          "execution_count": 53
        }
      ]
    },
    {
      "cell_type": "code",
      "metadata": {
        "id": "xjh38coQ7oea"
      },
      "source": [
        "def get_image(image_path=None):\n",
        "    if image_path == None:\n",
        "        img = random.choice(df[\"paths\"])\n",
        "        return [img]\n",
        "    return [image_path]\n",
        "\n",
        "\n",
        "def get_sample_photo(image_path=None):\n",
        "    img = get_image(image_path)\n",
        "    eval_dataset = DatasetClassifier(\n",
        "        image_paths=img, targets=[np.array([x for x in np.arange(10)])], resize=(IMG_HEIGHT, IMG_WIDTH)\n",
        "    )\n",
        "\n",
        "    eval_loader = torch.utils.data.DataLoader(\n",
        "        eval_dataset,\n",
        "        batch_size=BATCH_SIZE,\n",
        "        num_workers=NUM_WORKERS,\n",
        "        shuffle=False\n",
        "    )\n",
        "    \n",
        "    return img, eval_loader\n",
        "\n",
        "\n",
        "def predict_function(model, data_loader):\n",
        "    model.eval()\n",
        "    fin_preds = []\n",
        "    with torch.no_grad(): \n",
        "        for data in data_loader:\n",
        "            for k, v in data.items():\n",
        "                data[k] = v.to(DEVICE)\n",
        "            \n",
        "            batch_preds, _ = model(**data)\n",
        "            fin_preds.append(batch_preds)\n",
        "\n",
        "        return fin_preds"
      ],
      "execution_count": 61,
      "outputs": []
    },
    {
      "cell_type": "code",
      "metadata": {
        "colab": {
          "base_uri": "https://localhost:8080/"
        },
        "id": "rXTa8D7H8nd5",
        "outputId": "f7d319f7-1e2a-4455-d957-958613325cdf"
      },
      "source": [
        "image_path, eval_loader = get_sample_photo()\n",
        "print(image_path)\n",
        "\n",
        "def clean_decoded_predictions(unclean_predictions):\n",
        "    cleaned_predictions = []\n",
        "    for i in unclean_predictions:\n",
        "        if i != \"-\":\n",
        "            cleaned_predictions.append(i)\n",
        "            \n",
        "    cleaned_predictions = \"\".join(cleaned_predictions)\n",
        "    \n",
        "    if len(cleaned_predictions) == 10:\n",
        "        return cleaned_predictions   \n",
        "    \n",
        "    else:\n",
        "        prev = \"-\"\n",
        "        new_cleaned_predictions = []\n",
        "        for char in cleaned_predictions:\n",
        "            if char == prev:\n",
        "                continue\n",
        "            new_cleaned_predictions.append(char)\n",
        "            prev = char\n",
        "        res = \"\".join(new_cleaned_predictions)\n",
        "        return res\n",
        "    \n",
        "def predict_captcha(model, eval_loader, image_path):\n",
        "    plt.figure(figsize=(15,5))\n",
        "    image = mpimg.imread(image_path[0])\n",
        "    target = image_path[0].split(\"/\")[-1].split(\".\")[0]\n",
        "    plt.title(image_path[0].split(\"/\")[-1])\n",
        "    plt.imshow(image)\n",
        "    \n",
        "    valid_preds = predict_function(model, eval_loader)\n",
        "    for vp in valid_preds:\n",
        "        current_preds = decode_predictions(vp, lbl_enc)\n",
        "    \n",
        "    preds = clean_decoded_predictions(current_preds[0])\n",
        "    \n",
        "    success = True if preds == target else False\n",
        "\n",
        "    return{\n",
        "        \"success\": success,\n",
        "        \"prediction\": preds,\n",
        "        \"real\": target\n",
        "    }"
      ],
      "execution_count": 62,
      "outputs": [
        {
          "output_type": "stream",
          "name": "stdout",
          "text": [
            "['/content/drive/MyDrive/navia_assignment/electoral-tagged/27481.png']\n"
          ]
        },
        {
          "output_type": "stream",
          "name": "stderr",
          "text": [
            "/usr/local/lib/python3.7/dist-packages/torch/utils/data/dataloader.py:481: UserWarning: This DataLoader will create 8 worker processes in total. Our suggested max number of worker in current system is 2, which is smaller than what this DataLoader is going to create. Please be aware that excessive worker creation might get DataLoader running slow or even freeze, lower the worker number to avoid potential slowness/freeze if necessary.\n",
            "  cpuset_checked))\n"
          ]
        }
      ]
    },
    {
      "cell_type": "code",
      "metadata": {
        "colab": {
          "base_uri": "https://localhost:8080/",
          "height": 402
        },
        "id": "WNQLS6q78vmK",
        "outputId": "953556e3-e50b-43a6-c727-533efd14e858"
      },
      "source": [
        "preds = predict_captcha(model, eval_loader, image_path)\n",
        "preds"
      ],
      "execution_count": 63,
      "outputs": [
        {
          "output_type": "stream",
          "name": "stderr",
          "text": [
            "/usr/local/lib/python3.7/dist-packages/torch/utils/data/dataloader.py:481: UserWarning: This DataLoader will create 8 worker processes in total. Our suggested max number of worker in current system is 2, which is smaller than what this DataLoader is going to create. Please be aware that excessive worker creation might get DataLoader running slow or even freeze, lower the worker number to avoid potential slowness/freeze if necessary.\n",
            "  cpuset_checked))\n"
          ]
        },
        {
          "output_type": "execute_result",
          "data": {
            "text/plain": [
              "{'prediction': '27481', 'real': '27481', 'success': True}"
            ]
          },
          "metadata": {},
          "execution_count": 63
        },
        {
          "output_type": "display_data",
          "data": {
            "image/png": "[encoded data removed]",
            "text/plain": [
              "<Figure size 1080x360 with 1 Axes>"
            ]
          },
          "metadata": {
            "needs_background": "light"
          }
        }
      ]
    }
  ]
}